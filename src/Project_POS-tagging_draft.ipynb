{
 "cells": [
  {
   "attachments": {},
   "cell_type": "markdown",
   "metadata": {},
   "source": [
    "Data preparation:"
   ]
  },
  {
   "cell_type": "code",
   "execution_count": 3,
   "metadata": {},
   "outputs": [],
   "source": [
    "import nltk, re, pprint\n",
    "import numpy as np\n",
    "import pandas as pd\n",
    "import requests\n",
    "import matplotlib.pyplot as plt\n",
    "import seaborn as sns\n",
    "import pprint, time\n",
    "import random\n",
    "from sklearn.model_selection import train_test_split\n",
    "from nltk.tokenize import word_tokenize\n",
    "from collections import defaultdict\n",
    "import codecs"
   ]
  },
  {
   "attachments": {},
   "cell_type": "markdown",
   "metadata": {},
   "source": [
    "We are going to use the Treebank dataset of NLTK with the 'universal' tagset."
   ]
  },
  {
   "cell_type": "code",
   "execution_count": 2,
   "metadata": {},
   "outputs": [
    {
     "name": "stderr",
     "output_type": "stream",
     "text": [
      "[nltk_data] Downloading package treebank to\n",
      "[nltk_data]     C:\\Users\\lucia\\AppData\\Roaming\\nltk_data...\n",
      "[nltk_data]   Package treebank is already up-to-date!\n",
      "[nltk_data] Downloading package universal_tagset to\n",
      "[nltk_data]     C:\\Users\\lucia\\AppData\\Roaming\\nltk_data...\n",
      "[nltk_data]   Package universal_tagset is already up-to-date!\n",
      "[nltk_data] Downloading package brown to\n",
      "[nltk_data]     C:\\Users\\lucia\\AppData\\Roaming\\nltk_data...\n",
      "[nltk_data]   Package brown is already up-to-date!\n"
     ]
    },
    {
     "data": {
      "text/plain": [
       "True"
      ]
     },
     "execution_count": 2,
     "metadata": {},
     "output_type": "execute_result"
    }
   ],
   "source": [
    "nltk.download('treebank')\n",
    "nltk.download('universal_tagset')\n",
    "nltk.download('brown')"
   ]
  },
  {
   "cell_type": "code",
   "execution_count": 3,
   "metadata": {},
   "outputs": [
    {
     "name": "stdout",
     "output_type": "stream",
     "text": [
      "[('The', 'DET'), ('Fulton', 'NOUN'), ('County', 'NOUN'), ('Grand', 'ADJ'), ('Jury', 'NOUN'), ('said', 'VERB'), ('Friday', 'NOUN'), ('an', 'DET'), ('investigation', 'NOUN'), ('of', 'ADP'), (\"Atlanta's\", 'NOUN'), ('recent', 'ADJ'), ('primary', 'NOUN'), ('election', 'NOUN'), ('produced', 'VERB'), ('``', '.'), ('no', 'DET'), ('evidence', 'NOUN'), (\"''\", '.'), ('that', 'ADP'), ('any', 'DET'), ('irregularities', 'NOUN'), ('took', 'VERB'), ('place', 'NOUN'), ('.', '.')]\n",
      "57340\n",
      "57340\n"
     ]
    }
   ],
   "source": [
    "from nltk.corpus import brown\n",
    "\n",
    "# print the first few tagged sentences of the Brown Corpora\n",
    "print(brown.tagged_sents(tagset='universal')[0])\n",
    "\n",
    "# number of sentences in the Brown dataset\n",
    "print(len(brown.sents()))\n",
    "print(len(brown.sents()))"
   ]
  },
  {
   "cell_type": "code",
   "execution_count": 4,
   "metadata": {},
   "outputs": [
    {
     "name": "stdout",
     "output_type": "stream",
     "text": [
      "54473\n",
      "2867\n"
     ]
    }
   ],
   "source": [
    "# set the random seed\n",
    "random.seed(2023)\n",
    "\n",
    "# split data into training and test data. The train data correspond to the 95% of the whole amount of data\n",
    "train_data, test_data = train_test_split(brown.tagged_sents(tagset='universal'), train_size=0.95) \n",
    "# get the size of training and test data\n",
    "print(len(train_data))\n",
    "print(len(test_data))"
   ]
  },
  {
   "cell_type": "code",
   "execution_count": 5,
   "metadata": {},
   "outputs": [
    {
     "data": {
      "text/plain": [
       "1103345"
      ]
     },
     "execution_count": 5,
     "metadata": {},
     "output_type": "execute_result"
    }
   ],
   "source": [
    "# Getting list of tagged words in training set\n",
    "train_tagged_words = [tup for sent in train_data for tup in sent]   # list of tuples corresponding to the tagged words\n",
    "\n",
    "# Get length of total tagged words in training set\n",
    "len(train_tagged_words)"
   ]
  },
  {
   "cell_type": "code",
   "execution_count": 6,
   "metadata": {},
   "outputs": [
    {
     "data": {
      "text/plain": [
       "['That', 'was', 'where', 'he', 'met', 'Penny', '.', 'For', 'this', 'does']"
      ]
     },
     "execution_count": 6,
     "metadata": {},
     "output_type": "execute_result"
    }
   ],
   "source": [
    "# tokens\n",
    "tokens = [pair[0] for pair in train_tagged_words]\n",
    "tokens[:10]"
   ]
  },
  {
   "cell_type": "code",
   "execution_count": 7,
   "metadata": {},
   "outputs": [
    {
     "name": "stdout",
     "output_type": "stream",
     "text": [
      "54716\n"
     ]
    }
   ],
   "source": [
    "# vocabulary: set of all the \"known\" words\n",
    "vocabulary = set(tokens)\n",
    "print(len(vocabulary))"
   ]
  },
  {
   "cell_type": "code",
   "execution_count": 8,
   "metadata": {},
   "outputs": [
    {
     "name": "stdout",
     "output_type": "stream",
     "text": [
      "56057\n",
      "66939\n"
     ]
    }
   ],
   "source": [
    "# total number of distinct words \n",
    "print(len(set(brown.words())))\n",
    "# total number of distinct tagged words\n",
    "print(len(set(brown.tagged_words())))"
   ]
  },
  {
   "cell_type": "code",
   "execution_count": 9,
   "metadata": {},
   "outputs": [
    {
     "name": "stdout",
     "output_type": "stream",
     "text": [
      "12\n",
      "{'PRT', 'PRON', 'ADV', 'NUM', 'VERB', 'ADJ', 'NOUN', 'ADP', 'DET', 'CONJ', '.', 'X'}\n"
     ]
    }
   ],
   "source": [
    "# number of pos tags in the training corpus\n",
    "T = set([pair[1] for pair in train_tagged_words])\n",
    "print(len(T))\n",
    "print(T)"
   ]
  },
  {
   "attachments": {},
   "cell_type": "markdown",
   "metadata": {},
   "source": [
    "## TRAINING\n",
    "\n",
    "Once the data have been prepared, we proceed by with the training of the model. In particular we need to compute, based on the training data, the <font color='red'>emission</font> and <font color='red'>transition</font> probabilities."
   ]
  },
  {
   "attachments": {},
   "cell_type": "markdown",
   "metadata": {},
   "source": [
    "Recall: \n",
    "\n",
    "- an <font color='red'>emission</font> probability for a certain word $W_t$ corresponds to the probability that, given a tag, $W_t$ is observed.\n",
    "\n",
    "It can be computed as:\n",
    "$$\n",
    "    p(W_t|T_t) = \\frac{\\#\\{\\text{times the pair }(W_t, T_t)\\text{ is observed}\\}}{\\#\\{\\text{times any pair }(\\cdot, T_t)\\text{ is observed}\\}}\n",
    "$$\n",
    "- a <font color='red'>transition</font> probability for a certain tag $T_t$ refers to the probability that, given a tag, the following is one is $T_t$.\n",
    "\n",
    "It can be computed as:\n",
    "$$\n",
    "    p(T_t|T_{t-1}) = \\frac{\\#\\{\\text{times the tag $T_t$ is observed after $T_{t-1}$}\\}}{\\#\\{\\text{times the tag $T_{t-1}$ is observed}\\}}\n",
    "$$"
   ]
  },
  {
   "cell_type": "code",
   "execution_count": 10,
   "metadata": {},
   "outputs": [],
   "source": [
    "n_tags = len(T)\n",
    "n_words = len(vocabulary)"
   ]
  },
  {
   "cell_type": "code",
   "execution_count": 11,
   "metadata": {},
   "outputs": [],
   "source": [
    "# compute the emission probability of a fixed word given a fixed tag. The function returns the count of pairs (word,tag) in the training data and the \n",
    "# number of pairs (w, tag), where w is intended to be a generic word\n",
    "\n",
    "def emission_prob(word, tag, train_set = train_tagged_words) :\n",
    "    # select the pairs (w, t) with t = tag \n",
    "    w_tag = [pair for pair in train_set if pair[1] == tag]\n",
    "\n",
    "    # and compute their number\n",
    "    n_w_tag = len(w_tag)\n",
    "\n",
    "    # among these pairs we retain only the ones with w = word\n",
    "    word_tag = [pair for pair in w_tag if pair[0] == word]\n",
    "\n",
    "    # and compute their number\n",
    "    n_word_tag = len(word_tag)\n",
    "\n",
    "    return n_word_tag/n_w_tag"
   ]
  },
  {
   "cell_type": "code",
   "execution_count": 12,
   "metadata": {},
   "outputs": [],
   "source": [
    "# compute the transition probability of a fixed tag, tag2, given that the previous one is the fixed tag tag1. The function returns the number of \n",
    "# occurrences of tag2 after tag1 and the total number of occurrences of tag1 (followed by every tag)\n",
    "\n",
    "def transition_prob(tag1, tag2, train_set = train_tagged_words) :\n",
    "    # extract the list of the tags from the training data\n",
    "    tags = [pair[1] for pair in train_set]\n",
    "\n",
    "    # compute the total number of occurrences of tag1\n",
    "    n_tag1 = len([t for t in tags if t == tag1])\n",
    "\n",
    "    # compute the number of times tag2 follows tag1\n",
    "    n_tag2_tag1 = 0\n",
    "    for ind in range(len(tags) -1) :\n",
    "        if(tags[ind] == tag1 and tags[ind+1] == tag2) :\n",
    "            n_tag2_tag1 += 1\n",
    "    \n",
    "    return (n_tag2_tag1, n_tag1)"
   ]
  },
  {
   "attachments": {},
   "cell_type": "markdown",
   "metadata": {},
   "source": [
    "We can now proceed by defining the <font color='red'>transition probability matrix</font>. It is represented as a $T\\times T$ matrix in which the rows correspond to the current tag, whilst the columns correspond to the next tag. In each entry of the matrix there is the transition probability corresponding to that particular couple of tags. \n",
    "\n",
    "**CHECK: Note that we need a full matrix since the order of the tags in important**"
   ]
  },
  {
   "cell_type": "code",
   "execution_count": 13,
   "metadata": {},
   "outputs": [],
   "source": [
    "# transition probability matrix\n",
    "\n",
    "tpm = np.zeros( (n_tags, n_tags), dtype = np.float64 )\n",
    "for j, t2 in enumerate(list(T)) :\n",
    "    for i, t1 in enumerate(list(T)) :\n",
    "\n",
    "        # for each couple of tags we call the function transition_prob to compute their transition probability\n",
    "        (num, den) = transition_prob(t1, t2)\n",
    "\n",
    "        # if the numerator is zero (and, necessarily, so is the denominator) we do not need to evaluate the ratio\n",
    "        if num != 0 :\n",
    "            tpm[i, j] = num/den"
   ]
  },
  {
   "cell_type": "code",
   "execution_count": 14,
   "metadata": {},
   "outputs": [
    {
     "name": "stdout",
     "output_type": "stream",
     "text": [
      "           PRT      PRON       ADV       NUM      VERB       ADJ      NOUN   \n",
      "PRT   0.011416  0.006836  0.036293  0.005109  0.621846  0.019098  0.035976  \\\n",
      "PRON  0.023618  0.008299  0.054403  0.000960  0.706072  0.009537  0.008747   \n",
      "ADV   0.028405  0.048614  0.097004  0.013342  0.240808  0.136506  0.032840   \n",
      "NUM   0.005528  0.009993  0.021191  0.021828  0.046208  0.058894  0.380085   \n",
      "VERB  0.065554  0.055150  0.103436  0.008919  0.184202  0.057332  0.097528   \n",
      "ADJ   0.019324  0.003812  0.009662  0.006982  0.017550  0.057004  0.652731   \n",
      "NOUN  0.018053  0.020344  0.026545  0.008141  0.159200  0.012986  0.149902   \n",
      "ADP   0.014311  0.069658  0.015503  0.030054  0.041429  0.082312  0.258355   \n",
      "DET   0.002035  0.009929  0.017670  0.009760  0.064098  0.239727  0.626971   \n",
      "CONJ  0.025066  0.067633  0.091042  0.018799  0.194921  0.112022  0.243671   \n",
      ".     0.032490  0.107067  0.078152  0.018375  0.093858  0.041938  0.136845   \n",
      "X     0.006844  0.007605  0.007605  0.000760  0.051711  0.003042  0.054753   \n",
      "\n",
      "           ADP       DET      CONJ         .         X  \n",
      "PRT   0.090733  0.083932  0.011980  0.076709  0.000070  \n",
      "PRON  0.055748  0.017516  0.011542  0.103537  0.000021  \n",
      "ADV   0.141783  0.073314  0.017309  0.170001  0.000075  \n",
      "NUM   0.131538  0.014245  0.038767  0.271510  0.000213  \n",
      "VERB  0.169715  0.163077  0.014355  0.080542  0.000190  \n",
      "ADJ   0.088506  0.006026  0.037491  0.100433  0.000478  \n",
      "NOUN  0.244474  0.016220  0.059882  0.283925  0.000328  \n",
      "ADP   0.020315  0.455839  0.001897  0.009870  0.000458  \n",
      "DET   0.009038  0.005936  0.000630  0.012793  0.001413  \n",
      "CONJ  0.073126  0.151912  0.000276  0.020952  0.000580  \n",
      ".     0.112304  0.148790  0.088000  0.140705  0.001470  \n",
      "X     0.052471  0.005323  0.023574  0.273764  0.512548  \n"
     ]
    }
   ],
   "source": [
    "# visualization of the transition probability matrix\n",
    "tpm_df = pd.DataFrame(tpm, index = list(T), columns = list(T))\n",
    "print(tpm_df)"
   ]
  },
  {
   "attachments": {},
   "cell_type": "markdown",
   "metadata": {},
   "source": [
    "In addition, a heatmap can be useful to have a more immediate visualization of the matrix. The heatmap can be plotted using the seaborn package."
   ]
  },
  {
   "cell_type": "code",
   "execution_count": 15,
   "metadata": {},
   "outputs": [
    {
     "data": {
      "image/png": "[encoded data removed]",
      "text/plain": [
       "<Figure size 1200x1200 with 2 Axes>"
      ]
     },
     "metadata": {},
     "output_type": "display_data"
    }
   ],
   "source": [
    "# sample figsize in inches\n",
    "plt.figure(figsize=(12,12))\n",
    "\n",
    "sns.heatmap(tpm_df, annot = True, linewidths = .5, xticklabels = True, yticklabels = True)\n",
    "plt.title('Heatmap visualization of the transition probability matrix.')\n",
    "plt.show()"
   ]
  },
  {
   "attachments": {},
   "cell_type": "markdown",
   "metadata": {},
   "source": [
    "We can immediately see that there are \"frequent\" couples of tags:\n",
    "\n",
    "| transition | transition probability |\n",
    "| :-: | :-: |\n",
    "|PRON $\\implies$ VERB | (0.71) |\n",
    "| ADJ $\\implies$ NOUN | (0.65) |\n",
    "| DET $\\implies$ NOUN | (0.63) |\n",
    "| PRT $\\implies$ VERB | (0.62) |\n",
    "| X $\\implies$ X | (0.51) |\n",
    "| ADP $\\implies$ DET | (0.46) |"
   ]
  },
  {
   "attachments": {},
   "cell_type": "markdown",
   "metadata": {},
   "source": [
    "## Vanilla Viterbi algorithm\n",
    "\n",
    "In this first version of the algorithm, we we do not - yet - taking into account the possibility to encounter unknown words."
   ]
  },
  {
   "attachments": {},
   "cell_type": "markdown",
   "metadata": {},
   "source": [
    "The pseudocode of the algorithm is reported here with some useful notation.\n",
    "\n",
    "The algorithm returns the most probable sequence of tags $X = (x_0, \\dots, x_n)$, where $x_i \\in S = (s_1, \\dots, s_K), \\,\\, \\forall i = 0, \\dots n$ and $S$ is the state space - i.e. the set of all possible POS tags.\n",
    "\n",
    "Let $Y = (y_0, \\dots, y_n)$ be the sequence of observations, where $y_i \\in W = (w_1, \\dots, w_N), \\,\\, \\forall i = 1, \\dots, n$ and $W$ is the observation space - i.e. the vocabulary of all *known* words.\n",
    "\n",
    "Consider $\\pi = (\\pi_1, \\dots, \\pi_K)$ the vector of initial probabilities, meaning that $\\pi_i = P(x_0 = s_i), \\,\\, \\forall i = 1, \\dots, K$.\n",
    "<br>\n",
    "Note: instead of arbitrarily choosing the initial probability of any given tag t, we can simply define it as the emission probability of t given that the previous tag was a punctuation, '.'.\n",
    "\n",
    "Together with the transition probability matrix, *tpm*, constructed above we need the <font color='red'>emission probability matrix</font>, *epm*, that is - using the just introduced notations - a $K \\times N$ matrix whose entries $epm[t,w]$ store the emission probability that tag t generates word w.\n",
    "\n",
    "In the pseudocode two matrices are used:\n",
    "\n",
    "- T whose elements $T[i,j]$ store the probabilities of the most probable paths so far $\\hat{X} = (\\hat{x}_1, \\dots, \\hat{x}_j)$ with $\\hat{x}_j = s_i$ that generates the sequence of observations $(y_1, \\dots, y_j)$.\n",
    "- P whose elements $P[i,j]$ store the tags $\\hat{x}_{j-1}$ of the above most probable paths. The entries of the first column are set equal to 0.\n",
    "\n",
    "<font size=\"5\"><ins>Algorithm</ins></font>:\n",
    "\n",
    "<div style=\"background-color:rgba(0, 0, 0, 0.0470588); padding:10px 0; font-family:monospace;\">\n",
    "function vanilla_viterbi(W, S, pi, Y, tpm, epm) :<br>\n",
    "&nbsp;&nbsp;&nbsp;&nbsp; <b>for</b> each tag t = 1, ..., K <b>do</b> :<br>\n",
    "&nbsp;&nbsp;&nbsp;&nbsp;&nbsp;&nbsp;&nbsp;&nbsp; T[t,0] = pi[t] * epm[t,0] <br>\n",
    "&nbsp;&nbsp;&nbsp;&nbsp;&nbsp;&nbsp;&nbsp;&nbsp; P[t,0] = 0 <br>\n",
    "&nbsp;&nbsp;&nbsp;&nbsp; <b>end</b> <br>\n",
    "&nbsp;&nbsp;&nbsp;&nbsp; <b> for </b> each observation w = 0, ..., n <b> do </b> :<br>\n",
    "&nbsp;&nbsp;&nbsp;&nbsp;&nbsp;&nbsp;&nbsp;&nbsp; <b> for </b> each tag t = 1, ..., K <b>do</b> :<br>\n",
    "&nbsp;&nbsp;&nbsp;&nbsp;&nbsp;&nbsp;&nbsp;&nbsp;&nbsp;&nbsp;&nbsp;&nbsp; T[t,w] = max{T[k, w-1] * tpm[k, t]: k = 1, ..., K} * epm[t,w] <br>\n",
    "&nbsp;&nbsp;&nbsp;&nbsp;&nbsp;&nbsp;&nbsp;&nbsp;&nbsp;&nbsp;&nbsp;&nbsp; P[t,w] = argmax{T[k, w-1] * tpm[k, t]: k = 1, ..., K} <br>\n",
    "&nbsp;&nbsp;&nbsp;&nbsp;&nbsp;&nbsp;&nbsp;&nbsp; <b>end</b> <br>\n",
    "&nbsp;&nbsp;&nbsp;&nbsp; <b>end</b> <br>\n",
    "&nbsp;&nbsp;&nbsp;&nbsp; Z[n] = argmax{T[k,n], k = 1, ..., K} <br>\n",
    "&nbsp;&nbsp;&nbsp;&nbsp; X[n] = S[Z[n]] <br>\n",
    "&nbsp;&nbsp;&nbsp;&nbsp; <b> for </b> j = n, n-1, ..., 1 <br>\n",
    "&nbsp;&nbsp;&nbsp;&nbsp;&nbsp;&nbsp;&nbsp;&nbsp; Z[j-1] = P[Z[j], j] <br>\n",
    "&nbsp;&nbsp;&nbsp;&nbsp;&nbsp;&nbsp;&nbsp;&nbsp; X[j-1] = S[Z[j-1]] <br>\n",
    "&nbsp;&nbsp;&nbsp;&nbsp; <b> end </b> <br>\n",
    "&nbsp;&nbsp;&nbsp;&nbsp; <b> return </b> X <br>\n",
    "<b> end </b>\n",
    "</div>"
   ]
  },
  {
   "attachments": {},
   "cell_type": "markdown",
   "metadata": {},
   "source": [
    "Given everything we have said, in the actual implementation some subtleties are taken into account:\n",
    "\n",
    "- we don't need a vector of initial probabilities $\\pi$\n",
    "- instead of introducing the matrix of emission probabilities we can simply compute them using the above *emission_prob* function\n",
    "- "
   ]
  },
  {
   "cell_type": "code",
   "execution_count": 44,
   "metadata": {},
   "outputs": [],
   "source": [
    "# Vanilla Viterbi algorithm to fit the model\n",
    "# (running it on the whole set of training data takes hours, run it on subsets first)\n",
    "\n",
    "def vanilla_Viterbi(words, tags = list(T), tpm = tpm_df) :\n",
    "    n = len(words)\n",
    "    T = np.zeros( (len(tags), n), dtype=np.float64)\n",
    "    P = np.zeros( (len(tags), n), dtype=np.int64)\n",
    "    X = np.empty(n, dtype='object')\n",
    "\n",
    "    for ind, word in enumerate(words) :\n",
    "        for pos, t in enumerate(tags) :\n",
    "            emission_p = emission_prob(word, t)\n",
    "            if ind == 0 :\n",
    "                # for each tag t, compute its initial probability as the emission probability of t given that the previous tag was '.'\n",
    "                T[pos, 0] = tpm.loc['.', t] * emission_p\n",
    "                P[pos, 0] = 0\n",
    "            else :\n",
    "                # for each word different from the first one, the probability of the most probable sequence up to that stage is computed as the \n",
    "                # maximum probability of all the possible \"ways\" there are to reach that tag times the emission probability of that word given the tag\n",
    "                T[pos, ind] = max(np.multiply(T[:,ind-1], tpm.loc[:, t])) * emission_p\n",
    "                P[pos, ind] = np.argmax(np.multiply(T[:,ind-1], tpm.loc[:, t]))\n",
    "        \n",
    "    # obtain the most probable path proceeding backwards:\n",
    "    z = np.argmax(T[:,n-1])\n",
    "    X[n-1]= tags[z]\n",
    "    for w in range(n-1,0,-1) :\n",
    "        z = P[z, w]\n",
    "        X[w-1] = tags[z]\n",
    "\n",
    "    return X"
   ]
  },
  {
   "cell_type": "code",
   "execution_count": 4,
   "metadata": {},
   "outputs": [
    {
     "data": {
      "text/plain": [
       "0"
      ]
     },
     "execution_count": 4,
     "metadata": {},
     "output_type": "execute_result"
    }
   ],
   "source": [
    "np.argmax([0,0,0])"
   ]
  },
  {
   "cell_type": "code",
   "execution_count": 19,
   "metadata": {},
   "outputs": [],
   "source": [
    "# prepare the data on which the Viterbi algorithm is to be tested\n",
    "test_words = [pair[0] for sent in test_data for pair in sent ]\n",
    "\n",
    "# save the \"expected\" tags of the test words\n",
    "test_tags = [pair[1] for sent in test_data for pair in sent]\n",
    "\n",
    "# for quick initial tests, consider only few sentences of the train data:\n",
    "# (at this point the algorithm is not yet able to deal with new words)\n",
    "# accuracy is around 100%\n",
    "test_words_base = [pair[0] for sent in test_data[0:2] for pair in sent]\n",
    "test_tags_base = [pair[1] for sent in test_data[0:2] for pair in sent]"
   ]
  },
  {
   "cell_type": "code",
   "execution_count": 31,
   "metadata": {},
   "outputs": [
    {
     "name": "stdout",
     "output_type": "stream",
     "text": [
      "Time taken in seconds:  166.98252630233765\n",
      "Viterbi algorithm accuracy:  0.9682539682539683\n"
     ]
    }
   ],
   "source": [
    "start = time.time()\n",
    "test_out_base = vanilla_Viterbi(test_words_base)\n",
    "end = time.time()\n",
    "duration = end - start\n",
    "\n",
    "print(\"Time taken in seconds: \", duration)\n",
    "\n",
    "# evaluate the accuracy of the Viterbi algorithm\n",
    "correct = [t for t, t_vit in zip(test_tags_base, test_out_base) if t == t_vit]\n",
    "accuracy = len(correct)/len(test_words_base)\n",
    "\n",
    "print(\"Viterbi algorithm accuracy: \", accuracy)"
   ]
  },
  {
   "attachments": {},
   "cell_type": "markdown",
   "metadata": {},
   "source": [
    "<ins>ISSUE</ins>: This algorithm is unable to deal with <font color = orange>unknown words</font> or with <font color = lightblue>known words with a unseen syntactical role</font>."
   ]
  },
  {
   "attachments": {},
   "cell_type": "markdown",
   "metadata": {},
   "source": [
    "A possible approach to solve the problem of unknown words is to combine the stochastic POS-tagger constructed above with a <font color = red>rule-based</font> POS-tagger. The idea is the following: every time the emission probability - evaluated on the basis of the training data - gives as result 0, a classification based on a set of \"lexical rules\" is performed.\n",
    "\n",
    "We start by specifying a set of syntactical patterns that can help us in classifying unknown words."
   ]
  },
  {
   "cell_type": "code",
   "execution_count": 16,
   "metadata": {},
   "outputs": [],
   "source": [
    "# specify patterns for tagging\n",
    "patterns = [\n",
    "    (r'(.|,|:|;|!)$', '.'),             # punctuations\n",
    "    (r'(I|You|you|He|he|She|she|It|it|We|we|They|they)$', 'PRON'),   # pronomes\n",
    "    (r'(But|but|And|and|Or|or)$', 'CONJ'),\n",
    "    (r'.*ing$', 'VERB'),                # gerund\n",
    "    (r'.*ed$', 'VERB'),                 # past tense verbs\n",
    "    (r'.*es$', 'VERB'),                 # singular present verbs\n",
    "    (r'.*en$', 'VERB'),                 # verbs that mean 'cause to be'\n",
    "    (r'.*ould$', 'VERB'),               # modal verbs\n",
    "    (r'(Can|can|Will|will|May|may|might|might)$', 'VERB'),\n",
    "    (r'.*\\'s$', 'NOUN'),                # possessive nouns\n",
    "    (r'.*s$', 'NOUN'),                  # plural nouns\n",
    "    (r'^-?[0-9]+(.[0-9]+)?$', 'NUM'),   # cardinal numbers\n",
    "    (r'(The|the|A|a|An|an)$', 'DET'),   # articles or determinants\n",
    "    (r'.*able$', 'ADJ'),                # adjectives\n",
    "    (r'.*ible$', 'ADJ'),\n",
    "    (r'.*ful$', 'ADJ'),                 # adjectives\n",
    "    (r'.*less$', 'ADJ'),\n",
    "    (r'.*ous$', 'ADJ'),\n",
    "    (r'.*ive$', 'ADJ'),\n",
    "    (r'.*ness$', 'NOUN'),               # nouns formed from adjectives\n",
    "    (r'.*ment$', 'NOUN'),\n",
    "    (r'.*ion$', 'NOUN'),\n",
    "    (r'.*ship$', 'NOUN'),\n",
    "    (r'.*ity$', 'NOUN'),\n",
    "    (r'.*er$', 'NOUN'),\n",
    "    (r'.*or$', 'NOUN'),\n",
    "    (r'.*ee$', 'NOUN'),\n",
    "    (r'.*ly$', 'ADV'),                  # adverbs\n",
    "    (r'(Not|not)$', 'ADV'),\n",
    "    (r'(That|that|This|this|Those|those|These|these)$', 'ADP'),\n",
    "    (r'(In|in|To|to|At|at|For|for|By|by|From|from|With|with)$', 'ADP'),\n",
    "    (r'.*', 'NOUN')                     # nouns\n",
    "]"
   ]
  },
  {
   "attachments": {},
   "cell_type": "markdown",
   "metadata": {},
   "source": [
    "Once the patterns have been defined, we can use the *nltk.RegexpTagger()* - the built-in Regular Expression Tagger of the library nltk - to assign tags to tokens by comparing their word strings to the constructed series of regular expressions."
   ]
  },
  {
   "cell_type": "code",
   "execution_count": 17,
   "metadata": {},
   "outputs": [],
   "source": [
    "# rule based tagger\n",
    "rule_based_tagger = nltk.RegexpTagger(patterns)"
   ]
  },
  {
   "attachments": {},
   "cell_type": "markdown",
   "metadata": {},
   "source": [
    "Let's see how it performs on a test sentence:"
   ]
  },
  {
   "cell_type": "code",
   "execution_count": 90,
   "metadata": {},
   "outputs": [],
   "source": [
    "test_rules = rule_based_tagger.tag(test_words_base)"
   ]
  },
  {
   "cell_type": "code",
   "execution_count": 94,
   "metadata": {},
   "outputs": [
    {
     "name": "stdout",
     "output_type": "stream",
     "text": [
      "Rule-based POS tagger accuracy:  0.6774193548387096\n"
     ]
    }
   ],
   "source": [
    "# evaluate the accuracy of the Viterbi algorithm\n",
    "correct = [t for t, t_rule in zip(test_tags_base, test_rules) if t == t_rule[1]]\n",
    "accuracy = len(correct)/len(test_words_base)\n",
    "\n",
    "print(\"Rule-based POS tagger accuracy: \", accuracy)"
   ]
  },
  {
   "attachments": {},
   "cell_type": "markdown",
   "metadata": {},
   "source": [
    "Obviously, using this rule-based tagger alone is not optimal: the natural language has several subtleties and it is hard to fully depict them with a handful of lexical rules. Nevertheless, it can be combined to the previous Viterbi algorithm in order to help categorize unknown words.\n",
    "\n",
    "To do so, we clearly have to give a criterion to establish whether a word is unknown. Thanks to our implementation of the model, doing so is quite straightforward:\n",
    "<center><span style='font-family:serif'><font color = orange> \"an unknown word is a word whose emission probability given every possible tag is zero.\" </font></span> </center>\n",
    "\n",
    "Relying on this definition, we can modify the above Viterbi algorithm by invoking the just defined rule-based POS tagger on the unknown words."
   ]
  },
  {
   "cell_type": "code",
   "execution_count": 64,
   "metadata": {},
   "outputs": [],
   "source": [
    "def Viterbi_ruled(words, tags = list(T), tpm = tpm_df) :\n",
    "    n = len(words)\n",
    "    T = np.zeros( (len(tags), n), dtype=np.float64)\n",
    "    P = np.zeros( (len(tags), n), dtype=np.int64)\n",
    "    X = np.empty(n, dtype='object')\n",
    "\n",
    "    for ind, word in enumerate(words) :\n",
    "        # compute the list of all emission probabilities reltive to the current word\n",
    "        emission_p = [emission_prob(word, t) for t in tags]\n",
    "\n",
    "        # check whether all the emission probabilities for the current word are zero\n",
    "        if max(emission_p) == 0:\n",
    "            # if so, call the rule-based POS tagger and save the position in the list T of the returned tag\n",
    "            [(_,rule_tag)] = rule_based_tagger.tag([word])\n",
    "            ind_rule_tag = tags.index(rule_tag)\n",
    "\n",
    "            #this tagger is now our only option, we assign it a weight equal to 1\n",
    "            T[ind_rule_tag, ind] = max(np.multiply(T[:,ind-1], tpm.loc[:, rule_tag]))\n",
    "            P[ind_rule_tag, ind] = np.argmax(np.multiply(T[:,ind-1], tpm.loc[:, rule_tag]))\n",
    "\n",
    "        else :\n",
    "            for pos, t in enumerate(tags) :\n",
    "                # if the emission probability for the considered tag is zero, we leave everything as it is: the state is never going to be attained\n",
    "                # else :\n",
    "                if emission_p[pos] != 0 :\n",
    "                    if ind == 0 :\n",
    "                        # for each tag t, compute its initial probability as the emission probability of t given that the previous tag was '.'\n",
    "                        T[pos, 0] = tpm.loc['.', t] * emission_p[pos]\n",
    "                        P[pos, 0] = 0\n",
    "                    else :\n",
    "                        # for each word different from the first one, the probability of the most probable sequence up to that stage is computed as the \n",
    "                        # maximum probability of all the possible \"ways\" there are to reach that tag times the emission probability of that word given the tag\n",
    "                        T[pos, ind] = max(np.multiply(T[:,ind-1], tpm.loc[:, t])) * emission_p[pos]\n",
    "                        P[pos, ind] = np.argmax(np.multiply(T[:,ind-1], tpm.loc[:, t]))\n",
    "        \n",
    "    # obtain the most probable path proceeding backwards:\n",
    "    z = np.argmax(T[:,n-1])\n",
    "    X[n-1]= tags[z]\n",
    "    for w in range(n-1,0,-1) :\n",
    "        z = P[z, w]\n",
    "        X[w-1] = tags[z]\n",
    "\n",
    "    return X"
   ]
  },
  {
   "cell_type": "code",
   "execution_count": 65,
   "metadata": {},
   "outputs": [
    {
     "name": "stdout",
     "output_type": "stream",
     "text": [
      "Time taken in seconds:  179.46644830703735\n",
      "Viterbi algorithm accuracy:  0.9682539682539683\n"
     ]
    }
   ],
   "source": [
    "start = time.time()\n",
    "test_out_base = Viterbi_ruled(test_words_base)\n",
    "end = time.time()\n",
    "duration = end - start\n",
    "\n",
    "print(\"Time taken in seconds: \", duration)\n",
    "\n",
    "# evaluate the accuracy of the Viterbi algorithm\n",
    "correct = [t for t, t_vit in zip(test_tags_base, test_out_base) if t == t_vit]\n",
    "accuracy = len(correct)/len(test_words_base)\n",
    "\n",
    "print(\"Viterbi algorithm accuracy: \", accuracy)"
   ]
  },
  {
   "attachments": {},
   "cell_type": "markdown",
   "metadata": {},
   "source": [
    "<font color = red> ISN'T IT BETTER TO CREATE A VOCABULARY IN WHICH EACH WORD IS FOLLOWED BY ITS POSSIBLE TAG? INSTEAD THAN RUNNING EVERYTIME ON ALL TAGS WE SIMPLY LOOK FOR THE POSSIBLE STATES OF THAT WORD. IF A WORD DOES NOT EXIST, THE RULE BASED VITERBI IS CALLED. \n",
    "\n",
    "\n",
    "\n",
    "TRY TO IMPLEMENT A GRAPH IN THE VITERBI\n",
    "\n",
    "\n",
    "\n",
    "THINK AT IT PREVIOUSLY.... MY CONCERN IS ABOUT HAVING A SPARSE MATRIX T</font>"
   ]
  },
  {
   "attachments": {},
   "cell_type": "markdown",
   "metadata": {},
   "source": []
  },
  {
   "attachments": {},
   "cell_type": "markdown",
   "metadata": {},
   "source": []
  },
  {
   "attachments": {},
   "cell_type": "markdown",
   "metadata": {},
   "source": []
  },
  {
   "cell_type": "code",
   "execution_count": 40,
   "metadata": {},
   "outputs": [],
   "source": [
    "# get the continuous frequency distribution for the words which are tagged\n",
    "#cfd_train_words = nltk.ConditionalFreqDist(brown.tagged_words(tagset = 'universal'))"
   ]
  },
  {
   "cell_type": "code",
   "execution_count": 41,
   "metadata": {},
   "outputs": [],
   "source": [
    "# get the conditional probability distribution\n",
    "#cpd_train_words=nltk.ConditionalProbDist(cfd_train_words, nltk.MLEProbDist)"
   ]
  },
  {
   "cell_type": "code",
   "execution_count": 44,
   "metadata": {},
   "outputs": [
    {
     "name": "stdout",
     "output_type": "stream",
     "text": [
      "The probability of an adjective (JJ) being 'smart' is 0\n",
      "The probability of a verb (VB) being 'try' is 0\n"
     ]
    }
   ],
   "source": [
    "#print(\"The probability of an adjective (JJ) being 'smart' is\", cpd_train_words['DET'].prob('The'))\n",
    "#print(\"The probability of a verb (VB) being 'try' is\", cpd_train_words[\"VERB\"].prob(\"said\"))"
   ]
  },
  {
   "cell_type": "code",
   "execution_count": 45,
   "metadata": {},
   "outputs": [
    {
     "data": {
      "text/plain": [
       "<ConditionalProbDist with 56060 conditions>"
      ]
     },
     "execution_count": 45,
     "metadata": {},
     "output_type": "execute_result"
    }
   ],
   "source": [
    "#cpd_train_words"
   ]
  },
  {
   "attachments": {},
   "cell_type": "markdown",
   "metadata": {},
   "source": [
    "IDEA: GRAPH with 12 vertex, the weigths of each edge represent "
   ]
  },
  {
   "cell_type": "code",
   "execution_count": 18,
   "metadata": {},
   "outputs": [],
   "source": [
    "import networkx as nx \n",
    "from queue import PriorityQueue\n",
    "\n",
    "class AdjSetGraphD():\n",
    "\n",
    "    def __init__(self):\n",
    "        self._vertices = {}\n",
    "        \n",
    "    def vertices(self):\n",
    "        \"\"\" returns the vertices of a graph \"\"\"\n",
    "        return list(self._vertices.keys())\n",
    "\n",
    "    def edges(self):\n",
    "        \"\"\" returns the edges of a graph \"\"\"\n",
    "        _edges = set()\n",
    "        for n1 in self._vertices:\n",
    "            for n2 in self._vertices[n1]:\n",
    "                _edges.add((n1,n2[0],n2[1]))\n",
    "        return _edges\n",
    "\n",
    "    def insertVertex(self, v):\n",
    "        \"\"\" add a vertex \"\"\"\n",
    "        if v not in self._vertices:\n",
    "            self._vertices[v] = set()\n",
    "\n",
    "    def insertEdge(self, edge, weight):\n",
    "        \"\"\" add an edge \"\"\"\n",
    "        \"\"\" assumes that edge is of type tuple or list \"\"\"\n",
    "        (v1, v2) = tuple(edge)\n",
    "        \n",
    "        self.insertVertex(v1)\n",
    "        self.insertVertex(v2)\n",
    "        self._vertices[v1].add((v2,weight))\n",
    "        \n",
    "    def incidentEdges(self, v):\n",
    "        \"\"\" returns the set of edges incident on a vertex \"\"\"\n",
    "        incident_edges = set()\n",
    "        if v in self._vertices:\n",
    "            for v2 in self._vertices[v]:\n",
    "                incident_edges.add((v, v2[0],v2[1]))\n",
    "        return incident_edges\n",
    "    \n",
    "    def neighs(self, v):\n",
    "        \"\"\" returns the set of neighbors of a vertex \"\"\"\n",
    "        if v in self._vertices:\n",
    "            return self._vertices[v]\n",
    "        return set()\n",
    "        \n",
    "    def areAdjacent(self, v1, v2):\n",
    "        \"\"\" checks if the edge exists in the graph \"\"\"\n",
    "        if v1 not in self._vertices:\n",
    "            return False\n",
    "        for v in self._vertices[v1]:\n",
    "            if v[0] == v2:\n",
    "                return True\n",
    "        return False            \n",
    "    \n",
    "    def removeVertex(self, v):\n",
    "        \"\"\" remove a vertex \"\"\"\n",
    "        self._vertices.pop(v, None)\n",
    "        for n in self._vertices:\n",
    "            self._vertices[n].discard(v)        \n",
    "\n",
    "    def removeEdge(self, edge):\n",
    "        \"\"\" add an edge \"\"\"\n",
    "        (v1, v2) = tuple(edge)\n",
    "        for v in self._vertices[v1]:\n",
    "            if v[0] == v2:\n",
    "                  self._vertices[v1].discard(v)\n",
    "                  return\n",
    "\n",
    "    def draw(self):\n",
    "        \"\"\" draw the graph \"\"\"\n",
    "        G = nx.DiGraph()\n",
    "        for e in self.edges():\n",
    "            G.add_edge(e[0],e[1],weight=e[2])  \n",
    "        pos = nx.circular_layout(G) \n",
    "        weight_labels = nx.get_edge_attributes(G,'weight')\n",
    "        arc_rad = 0.05\n",
    "        nx.draw(G, pos, with_labels = True, node_size=600, node_color='#00b4d9', connectionstyle=f'arc3, rad = {arc_rad}') \n",
    "        output = nx.draw_networkx_edge_labels(G,pos,edge_labels=weight_labels, label_pos=0.33)     \n",
    "\n",
    "    def print_shortest(self,path):   \n",
    "        \"\"\" draw the path in the graph \"\"\"\n",
    "        \"\"\" path is the list of the vertices to traverse \"\"\"\n",
    "        \"\"\" example: path = ['A', 'C', 'B', 'E'] \"\"\"\n",
    "        G = nx.DiGraph()\n",
    "        for e in self.edges():\n",
    "            G.add_edge(e[0],e[1],weight=e[2])   \n",
    "        edges_path = list(zip(path,path[1:]))\n",
    "        pos = nx.circular_layout(G) \n",
    "        weight_labels = nx.get_edge_attributes(G,'weight')\n",
    "        arc_rad = 0.05\n",
    "        edge_colors = ['black' if not edge in edges_path else 'red' for edge in G.edges()]\n",
    "        nx.draw(G, pos, with_labels = True, node_size=600, node_color='#00b4d9', connectionstyle=f'arc3, rad = {arc_rad}', edge_color= edge_colors) \n",
    "        output = nx.draw_networkx_edge_labels(G,pos,edge_labels=weight_labels, label_pos=0.33)  "
   ]
  },
  {
   "cell_type": "code",
   "execution_count": 20,
   "metadata": {},
   "outputs": [
    {
     "data": {
      "text/plain": [
       "{(('the', 'DET'), ('fans', 'NOUN'), 0.1),\n",
       " (('the', 'DET'), ('fans', 'VERB'), 0.2)}"
      ]
     },
     "execution_count": 20,
     "metadata": {},
     "output_type": "execute_result"
    }
   ],
   "source": [
    "G = AdjSetGraphD()\n",
    "G.insertVertex(('the', 'DET'))\n",
    "G.insertVertex(('fans', 'NOUN'))\n",
    "G.insertVertex(('fans', 'VERB'))\n",
    "G.insertEdge((('the', 'DET'), ('fans', 'NOUN')), 0.1)\n",
    "G.insertEdge((('the', 'DET'), ('fans', 'VERB')), 0.2)\n",
    "\n",
    "#G.draw()\n",
    "G.incidentEdges(('the', 'DET'))\n"
   ]
  },
  {
   "cell_type": "code",
   "execution_count": 34,
   "metadata": {},
   "outputs": [
    {
     "data": {
      "text/plain": [
       "('the', 'DET')"
      ]
     },
     "execution_count": 34,
     "metadata": {},
     "output_type": "execute_result"
    }
   ],
   "source": [
    "G = nx.DiGraph()\n",
    "G.add_edge(('the', 'DET'), ('fans', 'NOUN'), weight = 0.1)\n",
    "G.add_edge(('the', 'DET'), ('fans', 'VERB'), weight = 0.2)\n",
    "\n",
    "list(G.in_edges(('fans', 'VERB')))[0][0]"
   ]
  },
  {
   "cell_type": "code",
   "execution_count": 62,
   "metadata": {},
   "outputs": [],
   "source": [
    "def graph_Viterbi(words, tags = list(T), tpm = tpm_df) :\n",
    "    n = len(words)\n",
    "    T = AdjSetGraphD()\n",
    "    T.insertVertex(('.', '.'))\n",
    "    # vector of tuples to save previous step probabilities\n",
    "    temp = np.zeros(len(tags), dtype=np.float64)\n",
    "    temp[tags.index('.')] = 1\n",
    "    #T = np.zeros( (len(tags), n), dtype=np.float64)\n",
    "    #P = np.zeros( (len(tags), n), dtype=np.int64)\n",
    "    X = np.empty(n, dtype='object')\n",
    "\n",
    "    for ind, word in enumerate(words) :\n",
    "        for pos, tag in enumerate(tags) :\n",
    "\n",
    "            emission_p = emission_prob(word, tag)\n",
    "            pred = np.argmax(np.multiply(temp, tpm.loc[:, tag]))\n",
    "            prob_max = max(np.multiply(temp, tpm.loc[:, tag]))\n",
    "\n",
    "            if emission_p != 0 :\n",
    "                weight = prob_max * emission_p\n",
    "                temp[pos] = weight\n",
    "                T.insertVertex((word, tag))\n",
    "                if ind != 0 :\n",
    "                    T.insertEdge(((words[ind-1], tags[pred]), (word, tag)), weight)\n",
    "                else :\n",
    "                    T.insertEdge((('.', '.'), (word, tag)), weight)\n",
    "            else :\n",
    "                temp[pos] = 0\n",
    "\n",
    "            # if the current word is unknown, all the emission probabilities will be zero\n",
    "            if max(temp) == 0 :\n",
    "                [(_,rule_tag)] = rule_based_tagger.tag([word])\n",
    "                T.insertVertex((word, rule_tag))\n",
    "                if ind != 0 :\n",
    "                    T.insertEdge(((words[ind-1], tags[pred]), (word, rule_tag)), prob_max)\n",
    "                else :\n",
    "                    T.insertEdge((('.', '.'), (word, rule_tag)), prob_max)\n",
    "                \n",
    "                ind_rule_tag = tags.index(rule_tag)\n",
    "                temp[ind_rule_tag] = 1\n",
    "                \n",
    "        \n",
    "    # obtain the most probable path proceeding backwards:\n",
    "    z = np.argmax(temp)\n",
    "    X[n-1]= tags[z]\n",
    "    for w in range(n-1,0,-1) :\n",
    "    #    z = P[z, w]\n",
    "    #    X[w-1] = tags[z]\n",
    "\n",
    "    return T"
   ]
  },
  {
   "cell_type": "code",
   "execution_count": 55,
   "metadata": {},
   "outputs": [],
   "source": [
    "simple_example = ['It', 'is', 'beautiful']\n",
    "\n",
    "G, X = graph_Viterbi(simple_example)"
   ]
  },
  {
   "cell_type": "code",
   "execution_count": 46,
   "metadata": {},
   "outputs": [],
   "source": [
    "X1 = vanilla_Viterbi(simple_example)"
   ]
  },
  {
   "cell_type": "code",
   "execution_count": 47,
   "metadata": {},
   "outputs": [
    {
     "data": {
      "text/plain": [
       "array(['PRON', 'VERB', 'ADJ'], dtype=object)"
      ]
     },
     "execution_count": 47,
     "metadata": {},
     "output_type": "execute_result"
    }
   ],
   "source": [
    "X1"
   ]
  },
  {
   "cell_type": "code",
   "execution_count": 57,
   "metadata": {},
   "outputs": [
    {
     "data": {
      "text/plain": [
       "array([('It', 'PRON'), ('is', 'VERB'), ('beautiful', 'ADJ')], dtype=object)"
      ]
     },
     "execution_count": 57,
     "metadata": {},
     "output_type": "execute_result"
    }
   ],
   "source": [
    "X"
   ]
  },
  {
   "cell_type": "code",
   "execution_count": 54,
   "metadata": {},
   "outputs": [],
   "source": [
    "def graph_Viterbi(words, tags = list(T), tpm = tpm_df) :\n",
    "    n = len(words)\n",
    "    T = nx.DiGraph()\n",
    "    # vector of tuples to save previous step probabilities\n",
    "    pred = np.zeros(len(tags), dtype=np.float64)\n",
    "    pred[tags.index('.')] = 1\n",
    "    current = np.zeros(len(tags), dtype=np.float64)\n",
    "    #T = np.zeros( (len(tags), n), dtype=np.float64)\n",
    "    #P = np.zeros( (len(tags), n), dtype=np.int64)\n",
    "    X = np.empty(n, dtype='object')\n",
    "\n",
    "    for ind, word in enumerate(words) :\n",
    "        for pos, tag in enumerate(tags) :\n",
    "\n",
    "            emission_p = emission_prob(word, tag)\n",
    "            ind_pred = np.argmax(np.multiply(pred, tpm.loc[:, tag]))\n",
    "            prob_max = max(np.multiply(pred, tpm.loc[:, tag]))\n",
    "\n",
    "            if emission_p != 0 :\n",
    "                weight = prob_max * emission_p\n",
    "                # NON PUOI MODIFICARE QUI TEMP!!\n",
    "                current[pos] = weight\n",
    "                if ind != 0 :\n",
    "                    T.add_edge((words[ind-1], tags[ind_pred]), (word, tag), weight = weight)\n",
    "                else :\n",
    "                    T.add_edge(('.', '.'), (word, tag), weight = weight)\n",
    "            else :\n",
    "                current[pos] = 0\n",
    "\n",
    "        # if the current word is unknown, all the emission probabilities will be zero\n",
    "        if max(current) == 0 :\n",
    "            [(_,rule_tag)] = rule_based_tagger.tag([word])\n",
    "            ind_pred = np.argmax(np.multiply(pred, tpm.loc[:, rule_tag]))\n",
    "            prob_max = max(np.multiply(pred, tpm.loc[:, rule_tag]))\n",
    "            if ind != 0 :\n",
    "                T.add_edge((words[ind-1], tags[ind_pred]), (word, rule_tag), weight = prob_max)\n",
    "            else :\n",
    "                T.add_edge(('.', '.'), (word, rule_tag), weight = prob_max)\n",
    "            \n",
    "            ind_rule_tag = tags.index(rule_tag)\n",
    "            current[ind_rule_tag] = 1\n",
    "        \n",
    "        for i, p in enumerate(current) :\n",
    "            pred[i] = p\n",
    "                \n",
    "        \n",
    "    # obtain the most probable path proceeding backwards:\n",
    "    z = np.argmax(pred)\n",
    "    X[n-1]= (words[n-1], tags[z])\n",
    "    for w in range(n-1,0,-1) :\n",
    "        X[w-1] = list(T.in_edges(X[w]))[0][0]\n",
    "    #    z = P[z, w]\n",
    "    #    X[w-1] = tags[z]\n",
    "\n",
    "    return T, X"
   ]
  }
 ],
 "metadata": {
  "kernelspec": {
   "display_name": "Python 3",
   "language": "python",
   "name": "python3"
  },
  "language_info": {
   "codemirror_mode": {
    "name": "ipython",
    "version": 3
   },
   "file_extension": ".py",
   "mimetype": "text/x-python",
   "name": "python",
   "nbconvert_exporter": "python",
   "pygments_lexer": "ipython3",
   "version": "3.11.2"
  },
  "orig_nbformat": 4
 },
 "nbformat": 4,
 "nbformat_minor": 2
}
